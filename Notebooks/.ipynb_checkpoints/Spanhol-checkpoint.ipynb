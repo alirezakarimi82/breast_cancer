{
 "cells": [
  {
   "cell_type": "markdown",
   "metadata": {},
   "source": [
    "## Classification using Spanhol Network"
   ]
  },
  {
   "cell_type": "markdown",
   "metadata": {},
   "source": [
    "In this notebook, a particular configuration of convolutional neural networks proposed by [Spanhol *et al.*](http://www.inf.ufpr.br/lesoliveira/download/IJCNN2016-BC.pdf) is utilized to train a classifier based on raw images of the BreakHis dataset. First, I divided the images into train and test sets in a patient-wise manner and then I read the corresponding image files. To lower the size of computations, the images are resized to be 230 $\\times$ 350. Then, the image data are scaled by subtracting from the mean of the train set and by dividing by the overall maximum value which is 255. Then, using the `keras` library, the model proposed by Spanhol *et al.* is introduced which contains 3 convolutional layers and 2 dense layers. In order to address the issue of overfitting, a dropout layers has been added before the output layer. In total, this model contains more than 4 million trainable parameters. I defined a check point to store the weights of the model whenever the network reaches a peak in terms of accuracy of predicting the labels of the test set. At the end, this best model is called from the disk and the corresponding values of the accuracy and the recognition scores are calculated."
   ]
  },
  {
   "cell_type": "code",
   "execution_count": 58,
   "metadata": {},
   "outputs": [],
   "source": [
    "import cv2\n",
    "import pandas as pd\n",
    "import numpy as np\n",
    "import matplotlib.pyplot as plt\n",
    "import pickle\n",
    "\n",
    "from keras.models import Sequential\n",
    "from keras.layers import Dense, Dropout, Flatten\n",
    "from keras.layers import Conv2D, MaxPooling2D, AveragePooling2D, ZeroPadding2D, Activation\n",
    "from keras.layers.normalization import BatchNormalization\n",
    "from keras.callbacks import EarlyStopping, ModelCheckpoint\n",
    "from keras.models import load_model"
   ]
  },
  {
   "cell_type": "code",
   "execution_count": 2,
   "metadata": {},
   "outputs": [],
   "source": [
    "np.random.seed(42)"
   ]
  },
  {
   "cell_type": "code",
   "execution_count": 3,
   "metadata": {},
   "outputs": [],
   "source": [
    "df = pd.read_csv('./specs.csv')"
   ]
  },
  {
   "cell_type": "code",
   "execution_count": 4,
   "metadata": {},
   "outputs": [],
   "source": [
    "patients = list(df['Patient_Id'].unique())"
   ]
  },
  {
   "cell_type": "code",
   "execution_count": 5,
   "metadata": {},
   "outputs": [],
   "source": [
    "train_frac = 0.75"
   ]
  },
  {
   "cell_type": "code",
   "execution_count": 6,
   "metadata": {},
   "outputs": [],
   "source": [
    "train_size = int(train_frac * len(patients))"
   ]
  },
  {
   "cell_type": "code",
   "execution_count": 7,
   "metadata": {},
   "outputs": [],
   "source": [
    "train_patients = list(np.random.choice(patients, size = train_size, replace = False))\n",
    "test_patients = list(set(patients) - set(train_patients)) "
   ]
  },
  {
   "cell_type": "code",
   "execution_count": 8,
   "metadata": {},
   "outputs": [],
   "source": [
    "df_train = df.set_index('Patient_Id').loc[train_patients].reset_index()\n",
    "df_test  = df.set_index('Patient_Id').loc[test_patients].reset_index()"
   ]
  },
  {
   "cell_type": "code",
   "execution_count": 60,
   "metadata": {},
   "outputs": [],
   "source": [
    "del X_train\n",
    "del X_test"
   ]
  },
  {
   "cell_type": "code",
   "execution_count": 61,
   "metadata": {},
   "outputs": [],
   "source": [
    "dst_folder = './Images/'\n",
    "img_list = []\n",
    "\n",
    "for index, row in df_train.iterrows():\n",
    "    file_name = dst_folder + row['Image_Id'] + '.png'\n",
    "    img_list.append(cv2.resize(cv2.imread(file_name), (0,0), fx=0.5, fy=0.5))\n",
    "\n",
    "mean_img_train = np.mean(img_list, axis=(0, 1, 2))\n",
    "\n",
    "X_train = img_list - mean_img_train\n",
    "    \n",
    "del img_list\n",
    "\n",
    "X_train /= 255"
   ]
  },
  {
   "cell_type": "code",
   "execution_count": 62,
   "metadata": {},
   "outputs": [],
   "source": [
    "dst_folder = './Images/'\n",
    "img_list = []\n",
    "\n",
    "for index, row in df_test.iterrows():\n",
    "    file_name = dst_folder + row['Image_Id'] + '.png'\n",
    "    img_list.append(cv2.resize(cv2.imread(file_name), (0,0), fx=0.5, fy=0.5))\n",
    "\n",
    "X_test = img_list - mean_img_train\n",
    "\n",
    "del img_list\n",
    "\n",
    "X_test /= 255"
   ]
  },
  {
   "cell_type": "code",
   "execution_count": 63,
   "metadata": {},
   "outputs": [],
   "source": [
    "y_train = np.array(df_train['Label'])\n",
    "y_test  = np.array(df_test['Label'])"
   ]
  },
  {
   "cell_type": "markdown",
   "metadata": {},
   "source": [
    "## CNN Model"
   ]
  },
  {
   "cell_type": "code",
   "execution_count": 76,
   "metadata": {},
   "outputs": [],
   "source": [
    "model = Sequential()\n",
    "\n",
    "model.add(ZeroPadding2D(padding=(2, 2), input_shape=X_train.shape[1:]))\n",
    "\n",
    "# 1st Convolutional Layer\n",
    "model.add(Conv2D(filters=32,\n",
    "                 kernel_size=5))\n",
    "\n",
    "# Pooling\n",
    "model.add(MaxPooling2D(pool_size=(3, 3), strides=(2, 2)))\n",
    "\n",
    "model.add(Activation('relu'))\n",
    "\n",
    "# Batch Normalisation before passing it to the next layer\n",
    "model.add(BatchNormalization())\n",
    "\n",
    "model.add(ZeroPadding2D(padding=(2, 2)))\n",
    "\n",
    "# 2nd Convolutional Layer\n",
    "model.add(Conv2D(filters=32,\n",
    "                 kernel_size=5,\n",
    "                 activation='relu'))\n",
    "\n",
    "# Pooling\n",
    "model.add(AveragePooling2D(pool_size=(3, 3), strides=(2, 2)))\n",
    "\n",
    "# Batch Normalisation\n",
    "model.add(BatchNormalization())\n",
    "\n",
    "model.add(ZeroPadding2D(padding=(2, 2)))\n",
    "\n",
    "# 3rd Convolutional Layer\n",
    "model.add(Conv2D(filters=64,\n",
    "                 kernel_size=5,\n",
    "                 activation='relu'))\n",
    "\n",
    "# Pooling\n",
    "model.add(AveragePooling2D(pool_size=(3, 3), strides=(2, 2)))\n",
    "\n",
    "# Batch Normalisation\n",
    "model.add(BatchNormalization())\n",
    "\n",
    "# Passing it to a dense layer\n",
    "model.add(Flatten())\n",
    "\n",
    "# 1st Dense Layer\n",
    "model.add(Dense(64, activation='relu'))\n",
    "\n",
    "# Add Dropout to prevent overfitting\n",
    "model.add(Dropout(0.5))\n",
    "\n",
    "# Batch Normalisation\n",
    "model.add(BatchNormalization())\n",
    "\n",
    "# Output Layer\n",
    "model.add(Dense(1, activation='sigmoid'))"
   ]
  },
  {
   "cell_type": "code",
   "execution_count": 77,
   "metadata": {},
   "outputs": [
    {
     "name": "stdout",
     "output_type": "stream",
     "text": [
      "_________________________________________________________________\n",
      "Layer (type)                 Output Shape              Param #   \n",
      "=================================================================\n",
      "zero_padding2d_10 (ZeroPaddi (None, 234, 354, 3)       0         \n",
      "_________________________________________________________________\n",
      "conv2d_13 (Conv2D)           (None, 230, 350, 32)      2432      \n",
      "_________________________________________________________________\n",
      "max_pooling2d_5 (MaxPooling2 (None, 114, 174, 32)      0         \n",
      "_________________________________________________________________\n",
      "activation_3 (Activation)    (None, 114, 174, 32)      0         \n",
      "_________________________________________________________________\n",
      "batch_normalization_17 (Batc (None, 114, 174, 32)      128       \n",
      "_________________________________________________________________\n",
      "zero_padding2d_11 (ZeroPaddi (None, 118, 178, 32)      0         \n",
      "_________________________________________________________________\n",
      "conv2d_14 (Conv2D)           (None, 114, 174, 32)      25632     \n",
      "_________________________________________________________________\n",
      "average_pooling2d_9 (Average (None, 56, 86, 32)        0         \n",
      "_________________________________________________________________\n",
      "batch_normalization_18 (Batc (None, 56, 86, 32)        128       \n",
      "_________________________________________________________________\n",
      "zero_padding2d_12 (ZeroPaddi (None, 60, 90, 32)        0         \n",
      "_________________________________________________________________\n",
      "conv2d_15 (Conv2D)           (None, 56, 86, 64)        51264     \n",
      "_________________________________________________________________\n",
      "average_pooling2d_10 (Averag (None, 27, 42, 64)        0         \n",
      "_________________________________________________________________\n",
      "batch_normalization_19 (Batc (None, 27, 42, 64)        256       \n",
      "_________________________________________________________________\n",
      "flatten_5 (Flatten)          (None, 72576)             0         \n",
      "_________________________________________________________________\n",
      "dense_9 (Dense)              (None, 64)                4644928   \n",
      "_________________________________________________________________\n",
      "dropout_5 (Dropout)          (None, 64)                0         \n",
      "_________________________________________________________________\n",
      "batch_normalization_20 (Batc (None, 64)                256       \n",
      "_________________________________________________________________\n",
      "dense_10 (Dense)             (None, 1)                 65        \n",
      "=================================================================\n",
      "Total params: 4,725,089\n",
      "Trainable params: 4,724,705\n",
      "Non-trainable params: 384\n",
      "_________________________________________________________________\n"
     ]
    }
   ],
   "source": [
    "model.summary()"
   ]
  },
  {
   "cell_type": "code",
   "execution_count": 78,
   "metadata": {},
   "outputs": [],
   "source": [
    "model.compile(optimizer='adam', loss='binary_crossentropy', metrics=['accuracy'])"
   ]
  },
  {
   "cell_type": "code",
   "execution_count": 79,
   "metadata": {},
   "outputs": [],
   "source": [
    "file_name = 'model_spanhol.h5'\n",
    "earlystopper = EarlyStopping(monitor='val_acc', patience=20, verbose=1, mode='max')\n",
    "checkpointer = ModelCheckpoint(file_name, monitor='val_acc', verbose=1, save_best_only=True, mode='max')"
   ]
  },
  {
   "cell_type": "code",
   "execution_count": 80,
   "metadata": {},
   "outputs": [
    {
     "name": "stdout",
     "output_type": "stream",
     "text": [
      "Train on 1510 samples, validate on 464 samples\n",
      "Epoch 1/50\n",
      "1510/1510 [==============================] - 13s 9ms/step - loss: 0.5073 - acc: 0.7834 - val_loss: 0.7455 - val_acc: 0.7737\n",
      "\n",
      "Epoch 00001: val_acc improved from -inf to 0.77371, saving model to model_paper.h5\n",
      "Epoch 2/50\n",
      "1510/1510 [==============================] - 11s 7ms/step - loss: 0.4134 - acc: 0.8351 - val_loss: 0.4463 - val_acc: 0.8233\n",
      "\n",
      "Epoch 00002: val_acc improved from 0.77371 to 0.82328, saving model to model_paper.h5\n",
      "Epoch 3/50\n",
      "1510/1510 [==============================] - 11s 7ms/step - loss: 0.3436 - acc: 0.8570 - val_loss: 0.5061 - val_acc: 0.7845\n",
      "\n",
      "Epoch 00003: val_acc did not improve from 0.82328\n",
      "Epoch 4/50\n",
      "1510/1510 [==============================] - 11s 7ms/step - loss: 0.2947 - acc: 0.8868 - val_loss: 0.5931 - val_acc: 0.7974\n",
      "\n",
      "Epoch 00004: val_acc did not improve from 0.82328\n",
      "Epoch 5/50\n",
      "1510/1510 [==============================] - 11s 7ms/step - loss: 0.3148 - acc: 0.8768 - val_loss: 0.4887 - val_acc: 0.8082\n",
      "\n",
      "Epoch 00005: val_acc did not improve from 0.82328\n",
      "Epoch 6/50\n",
      "1510/1510 [==============================] - 11s 7ms/step - loss: 0.2852 - acc: 0.8881 - val_loss: 0.5341 - val_acc: 0.8254\n",
      "\n",
      "Epoch 00006: val_acc improved from 0.82328 to 0.82543, saving model to model_paper.h5\n",
      "Epoch 7/50\n",
      "1510/1510 [==============================] - 11s 7ms/step - loss: 0.2485 - acc: 0.9013 - val_loss: 0.5669 - val_acc: 0.8254\n",
      "\n",
      "Epoch 00007: val_acc did not improve from 0.82543\n",
      "Epoch 8/50\n",
      "1510/1510 [==============================] - 11s 7ms/step - loss: 0.2455 - acc: 0.8960 - val_loss: 0.4865 - val_acc: 0.8513\n",
      "\n",
      "Epoch 00008: val_acc improved from 0.82543 to 0.85129, saving model to model_paper.h5\n",
      "Epoch 9/50\n",
      "1510/1510 [==============================] - 11s 7ms/step - loss: 0.2091 - acc: 0.9185 - val_loss: 0.5221 - val_acc: 0.8103\n",
      "\n",
      "Epoch 00009: val_acc did not improve from 0.85129\n",
      "Epoch 10/50\n",
      "1510/1510 [==============================] - 11s 7ms/step - loss: 0.1969 - acc: 0.9258 - val_loss: 0.5289 - val_acc: 0.8491\n",
      "\n",
      "Epoch 00010: val_acc did not improve from 0.85129\n",
      "Epoch 11/50\n",
      "1510/1510 [==============================] - 11s 7ms/step - loss: 0.1624 - acc: 0.9404 - val_loss: 0.4551 - val_acc: 0.8168\n",
      "\n",
      "Epoch 00011: val_acc did not improve from 0.85129\n",
      "Epoch 12/50\n",
      "1510/1510 [==============================] - 11s 7ms/step - loss: 0.1538 - acc: 0.9377 - val_loss: 0.6076 - val_acc: 0.8125\n",
      "\n",
      "Epoch 00012: val_acc did not improve from 0.85129\n",
      "Epoch 13/50\n",
      "1510/1510 [==============================] - 11s 7ms/step - loss: 0.1418 - acc: 0.9444 - val_loss: 0.6538 - val_acc: 0.8276\n",
      "\n",
      "Epoch 00013: val_acc did not improve from 0.85129\n",
      "Epoch 14/50\n",
      "1510/1510 [==============================] - 11s 7ms/step - loss: 0.1453 - acc: 0.9490 - val_loss: 0.5306 - val_acc: 0.8427\n",
      "\n",
      "Epoch 00014: val_acc did not improve from 0.85129\n",
      "Epoch 15/50\n",
      "1510/1510 [==============================] - 11s 7ms/step - loss: 0.1273 - acc: 0.9536 - val_loss: 0.6537 - val_acc: 0.7931\n",
      "\n",
      "Epoch 00015: val_acc did not improve from 0.85129\n",
      "Epoch 16/50\n",
      "1510/1510 [==============================] - 11s 7ms/step - loss: 0.1196 - acc: 0.9556 - val_loss: 0.6556 - val_acc: 0.7953\n",
      "\n",
      "Epoch 00016: val_acc did not improve from 0.85129\n",
      "Epoch 17/50\n",
      "1510/1510 [==============================] - 11s 7ms/step - loss: 0.0993 - acc: 0.9649 - val_loss: 0.6797 - val_acc: 0.8017\n",
      "\n",
      "Epoch 00017: val_acc did not improve from 0.85129\n",
      "Epoch 18/50\n",
      "1510/1510 [==============================] - 11s 7ms/step - loss: 0.0982 - acc: 0.9656 - val_loss: 0.5575 - val_acc: 0.7974\n",
      "\n",
      "Epoch 00018: val_acc did not improve from 0.85129\n",
      "Epoch 19/50\n",
      "1510/1510 [==============================] - 11s 7ms/step - loss: 0.0770 - acc: 0.9781 - val_loss: 0.6532 - val_acc: 0.8103\n",
      "\n",
      "Epoch 00019: val_acc did not improve from 0.85129\n",
      "Epoch 20/50\n",
      "1510/1510 [==============================] - 11s 7ms/step - loss: 0.0934 - acc: 0.9662 - val_loss: 0.6908 - val_acc: 0.7974\n",
      "\n",
      "Epoch 00020: val_acc did not improve from 0.85129\n",
      "Epoch 21/50\n",
      "1510/1510 [==============================] - 11s 7ms/step - loss: 0.0711 - acc: 0.9781 - val_loss: 0.6669 - val_acc: 0.7888\n",
      "\n",
      "Epoch 00021: val_acc did not improve from 0.85129\n",
      "Epoch 22/50\n",
      "1510/1510 [==============================] - 11s 7ms/step - loss: 0.1139 - acc: 0.9563 - val_loss: 0.5906 - val_acc: 0.8276\n",
      "\n",
      "Epoch 00022: val_acc did not improve from 0.85129\n",
      "Epoch 23/50\n",
      "1510/1510 [==============================] - 11s 7ms/step - loss: 0.0784 - acc: 0.9715 - val_loss: 0.6489 - val_acc: 0.8254\n",
      "\n",
      "Epoch 00023: val_acc did not improve from 0.85129\n",
      "Epoch 24/50\n",
      "1510/1510 [==============================] - 11s 7ms/step - loss: 0.0721 - acc: 0.9742 - val_loss: 0.6011 - val_acc: 0.7996\n",
      "\n",
      "Epoch 00024: val_acc did not improve from 0.85129\n",
      "Epoch 25/50\n",
      "1510/1510 [==============================] - 11s 7ms/step - loss: 0.0429 - acc: 0.9881 - val_loss: 0.7294 - val_acc: 0.8060\n",
      "\n",
      "Epoch 00025: val_acc did not improve from 0.85129\n",
      "Epoch 26/50\n",
      "1510/1510 [==============================] - 11s 7ms/step - loss: 0.0481 - acc: 0.9841 - val_loss: 0.7619 - val_acc: 0.7866\n",
      "\n",
      "Epoch 00026: val_acc did not improve from 0.85129\n",
      "Epoch 27/50\n",
      "1510/1510 [==============================] - 11s 7ms/step - loss: 0.0482 - acc: 0.9834 - val_loss: 0.6811 - val_acc: 0.8103\n",
      "\n",
      "Epoch 00027: val_acc did not improve from 0.85129\n",
      "Epoch 28/50\n",
      "1510/1510 [==============================] - 11s 7ms/step - loss: 0.0358 - acc: 0.9907 - val_loss: 0.6828 - val_acc: 0.7953\n",
      "\n",
      "Epoch 00028: val_acc did not improve from 0.85129\n",
      "Epoch 00028: early stopping\n"
     ]
    }
   ],
   "source": [
    "results = model.fit(X_train, y_train,\n",
    "                    epochs=50,\n",
    "                    batch_size=32,\n",
    "                    validation_data=(X_test, y_test),\n",
    "                    callbacks=[earlystopper, checkpointer])"
   ]
  },
  {
   "cell_type": "code",
   "execution_count": 81,
   "metadata": {},
   "outputs": [
    {
     "data": {
      "image/png": "[encoded data removed]",
      "text/plain": [
       "<Figure size 432x288 with 1 Axes>"
      ]
     },
     "metadata": {},
     "output_type": "display_data"
    }
   ],
   "source": [
    "plt.plot(results.history['loss'], label = 'Train Loss')\n",
    "plt.plot(results.history['val_loss'], label = 'Test Loss')\n",
    "plt.legend();"
   ]
  },
  {
   "cell_type": "code",
   "execution_count": 82,
   "metadata": {},
   "outputs": [
    {
     "data": {
      "image/png": "[encoded data removed]",
      "text/plain": [
       "<Figure size 432x288 with 1 Axes>"
      ]
     },
     "metadata": {},
     "output_type": "display_data"
    }
   ],
   "source": [
    "plt.plot(results.history['acc'], label = 'Train Accuracy')\n",
    "plt.plot(results.history['val_acc'], label = 'Test Accuracy')\n",
    "plt.legend();"
   ]
  },
  {
   "cell_type": "code",
   "execution_count": 83,
   "metadata": {},
   "outputs": [],
   "source": [
    "best_model = load_model(file_name)"
   ]
  },
  {
   "cell_type": "code",
   "execution_count": 84,
   "metadata": {},
   "outputs": [
    {
     "name": "stdout",
     "output_type": "stream",
     "text": [
      "acc: 85.13%\n"
     ]
    }
   ],
   "source": [
    "scores = best_model.evaluate(X_test, y_test, verbose=0)\n",
    "print(\"%s: %.2f%%\" % (model.metrics_names[1], scores[1]*100))"
   ]
  },
  {
   "cell_type": "code",
   "execution_count": 85,
   "metadata": {},
   "outputs": [
    {
     "data": {
      "text/html": [
       "<div>\n",
       "<style scoped>\n",
       "    .dataframe tbody tr th:only-of-type {\n",
       "        vertical-align: middle;\n",
       "    }\n",
       "\n",
       "    .dataframe tbody tr th {\n",
       "        vertical-align: top;\n",
       "    }\n",
       "\n",
       "    .dataframe thead th {\n",
       "        text-align: right;\n",
       "    }\n",
       "</style>\n",
       "<table border=\"1\" class=\"dataframe\">\n",
       "  <thead>\n",
       "    <tr style=\"text-align: right;\">\n",
       "      <th></th>\n",
       "      <th>Patient_Id</th>\n",
       "      <th>Image_Id</th>\n",
       "      <th>Tumor_Type</th>\n",
       "      <th>Tumor_Subtype</th>\n",
       "      <th>Magnification</th>\n",
       "      <th>Image_Number</th>\n",
       "      <th>Label</th>\n",
       "      <th>pred</th>\n",
       "      <th>correct</th>\n",
       "    </tr>\n",
       "  </thead>\n",
       "  <tbody>\n",
       "    <tr>\n",
       "      <th>0</th>\n",
       "      <td>6241</td>\n",
       "      <td>SOB_M_DC-14-6241-40-053</td>\n",
       "      <td>M</td>\n",
       "      <td>DC</td>\n",
       "      <td>40</td>\n",
       "      <td>53</td>\n",
       "      <td>1</td>\n",
       "      <td>1</td>\n",
       "      <td>1</td>\n",
       "    </tr>\n",
       "    <tr>\n",
       "      <th>1</th>\n",
       "      <td>6241</td>\n",
       "      <td>SOB_M_DC-14-6241-40-051</td>\n",
       "      <td>M</td>\n",
       "      <td>DC</td>\n",
       "      <td>40</td>\n",
       "      <td>51</td>\n",
       "      <td>1</td>\n",
       "      <td>1</td>\n",
       "      <td>1</td>\n",
       "    </tr>\n",
       "    <tr>\n",
       "      <th>2</th>\n",
       "      <td>6241</td>\n",
       "      <td>SOB_M_DC-14-6241-40-045</td>\n",
       "      <td>M</td>\n",
       "      <td>DC</td>\n",
       "      <td>40</td>\n",
       "      <td>45</td>\n",
       "      <td>1</td>\n",
       "      <td>1</td>\n",
       "      <td>0</td>\n",
       "    </tr>\n",
       "    <tr>\n",
       "      <th>3</th>\n",
       "      <td>6241</td>\n",
       "      <td>SOB_M_DC-14-6241-40-044</td>\n",
       "      <td>M</td>\n",
       "      <td>DC</td>\n",
       "      <td>40</td>\n",
       "      <td>44</td>\n",
       "      <td>1</td>\n",
       "      <td>1</td>\n",
       "      <td>1</td>\n",
       "    </tr>\n",
       "    <tr>\n",
       "      <th>4</th>\n",
       "      <td>6241</td>\n",
       "      <td>SOB_M_DC-14-6241-40-054</td>\n",
       "      <td>M</td>\n",
       "      <td>DC</td>\n",
       "      <td>40</td>\n",
       "      <td>54</td>\n",
       "      <td>1</td>\n",
       "      <td>1</td>\n",
       "      <td>1</td>\n",
       "    </tr>\n",
       "  </tbody>\n",
       "</table>\n",
       "</div>"
      ],
      "text/plain": [
       "  Patient_Id                 Image_Id Tumor_Type Tumor_Subtype  Magnification  \\\n",
       "0       6241  SOB_M_DC-14-6241-40-053          M            DC             40   \n",
       "1       6241  SOB_M_DC-14-6241-40-051          M            DC             40   \n",
       "2       6241  SOB_M_DC-14-6241-40-045          M            DC             40   \n",
       "3       6241  SOB_M_DC-14-6241-40-044          M            DC             40   \n",
       "4       6241  SOB_M_DC-14-6241-40-054          M            DC             40   \n",
       "\n",
       "   Image_Number  Label  pred  correct  \n",
       "0            53      1     1        1  \n",
       "1            51      1     1        1  \n",
       "2            45      1     1        0  \n",
       "3            44      1     1        1  \n",
       "4            54      1     1        1  "
      ]
     },
     "execution_count": 85,
     "metadata": {},
     "output_type": "execute_result"
    }
   ],
   "source": [
    "df_test['pred'] = best_model.predict_classes(X_test)\n",
    "df_test.head()"
   ]
  },
  {
   "cell_type": "code",
   "execution_count": 86,
   "metadata": {
    "scrolled": true
   },
   "outputs": [],
   "source": [
    "df_test['correct'] = df_test.apply(lambda x: 1 if x['Label'] == x['pred'] else 0, axis=1)"
   ]
  },
  {
   "cell_type": "code",
   "execution_count": 87,
   "metadata": {},
   "outputs": [
    {
     "name": "stdout",
     "output_type": "stream",
     "text": [
      "RC = 82.95%\n"
     ]
    }
   ],
   "source": [
    "RC = df_test.groupby('Patient_Id')[['correct']].agg('mean').sum().values[0] / len(df_test.groupby('Patient_Id'))\n",
    "print('RC = {:0.2%}'.format(RC))"
   ]
  },
  {
   "cell_type": "code",
   "execution_count": 59,
   "metadata": {},
   "outputs": [],
   "source": [
    "outfile = open('hist_spanhol.pickle', 'wb')\n",
    "pickle.dump(results.history, outfile)\n",
    "outfile.close()"
   ]
  },
  {
   "cell_type": "code",
   "execution_count": null,
   "metadata": {},
   "outputs": [],
   "source": []
  }
 ],
 "metadata": {
  "kernelspec": {
   "display_name": "Python 3",
   "language": "python",
   "name": "python3"
  },
  "language_info": {
   "codemirror_mode": {
    "name": "ipython",
    "version": 3
   },
   "file_extension": ".py",
   "mimetype": "text/x-python",
   "name": "python",
   "nbconvert_exporter": "python",
   "pygments_lexer": "ipython3",
   "version": "3.6.6"
  }
 },
 "nbformat": 4,
 "nbformat_minor": 2
}
