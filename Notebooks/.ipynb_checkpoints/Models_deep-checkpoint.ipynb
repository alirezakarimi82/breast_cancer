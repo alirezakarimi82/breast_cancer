{
 "cells": [
  {
   "cell_type": "code",
   "execution_count": 1,
   "metadata": {},
   "outputs": [
    {
     "name": "stderr",
     "output_type": "stream",
     "text": [
      "Using TensorFlow backend.\n"
     ]
    }
   ],
   "source": [
    "import cv2\n",
    "import pandas as pd\n",
    "import numpy as np\n",
    "import matplotlib.pyplot as plt\n",
    "\n",
    "from sklearn.metrics import recall_score, f1_score, accuracy_score\n",
    "from keras.models import load_model"
   ]
  },
  {
   "cell_type": "markdown",
   "metadata": {},
   "source": [
    "### Obtaining the Train and Test Data"
   ]
  },
  {
   "cell_type": "code",
   "execution_count": 2,
   "metadata": {},
   "outputs": [],
   "source": [
    "df_train = pd.read_csv('train_data.csv')\n",
    "df_test  = pd.read_csv('test_data.csv')"
   ]
  },
  {
   "cell_type": "code",
   "execution_count": 3,
   "metadata": {},
   "outputs": [],
   "source": [
    "dst_folder = './Images/'\n",
    "img_list = []\n",
    "\n",
    "for index, row in df_train.iterrows():\n",
    "    file_name = dst_folder + row['Image_Id'] + '.png'\n",
    "    img_list.append(cv2.resize(cv2.imread(file_name), (0,0), fx=0.5, fy=0.5))\n",
    "\n",
    "mean_img_train = np.mean(img_list, axis=(0, 1, 2))\n",
    "\n",
    "X_train = img_list - mean_img_train\n",
    "    \n",
    "del img_list\n",
    "\n",
    "X_train /= 255"
   ]
  },
  {
   "cell_type": "code",
   "execution_count": 4,
   "metadata": {},
   "outputs": [],
   "source": [
    "dst_folder = './Images/'\n",
    "img_list = []\n",
    "\n",
    "for index, row in df_test.iterrows():\n",
    "    file_name = dst_folder + row['Image_Id'] + '.png'\n",
    "    img_list.append(cv2.resize(cv2.imread(file_name), (0,0), fx=0.5, fy=0.5))\n",
    "\n",
    "X_test = img_list - mean_img_train\n",
    "\n",
    "del img_list\n",
    "\n",
    "X_test /= 255"
   ]
  },
  {
   "cell_type": "code",
   "execution_count": 5,
   "metadata": {},
   "outputs": [],
   "source": [
    "y_train = np.array(df_train['Label'])\n",
    "y_test  = np.array(df_test['Label'])"
   ]
  },
  {
   "cell_type": "code",
   "execution_count": 6,
   "metadata": {},
   "outputs": [],
   "source": [
    "df = pd.DataFrame(columns=['model', 'train_accuracy', 'test_accuracy', 'train_recall',\n",
    "                           'test_recall', 'train_f1', 'test_f1', 'RR'])"
   ]
  },
  {
   "cell_type": "markdown",
   "metadata": {},
   "source": [
    "### AlexNet Model"
   ]
  },
  {
   "cell_type": "code",
   "execution_count": 7,
   "metadata": {},
   "outputs": [],
   "source": [
    "model_alexnet = load_model('./model_alexnet_best.h5')"
   ]
  },
  {
   "cell_type": "code",
   "execution_count": 8,
   "metadata": {},
   "outputs": [],
   "source": [
    "pred_train = model_alexnet.predict_classes(X_train)"
   ]
  },
  {
   "cell_type": "code",
   "execution_count": 9,
   "metadata": {},
   "outputs": [],
   "source": [
    "pred_test = model_alexnet.predict_classes(X_test)"
   ]
  },
  {
   "cell_type": "code",
   "execution_count": 10,
   "metadata": {},
   "outputs": [
    {
     "data": {
      "text/plain": [
       "0.8448275862068966"
      ]
     },
     "execution_count": 10,
     "metadata": {},
     "output_type": "execute_result"
    }
   ],
   "source": [
    "accuracy_score(y_test, pred_test)"
   ]
  },
  {
   "cell_type": "code",
   "execution_count": 11,
   "metadata": {},
   "outputs": [],
   "source": [
    "df_test['pred'] = pred_test\n",
    "df_test['correct'] = df_test.apply(lambda x: 1 if x['Label'] == x['pred'] else 0, axis=1)\n",
    "RR = df_test.groupby('Patient_Id')[['correct']].agg('mean').sum().values[0] / len(df_test.groupby('Patient_Id'))"
   ]
  },
  {
   "cell_type": "code",
   "execution_count": 12,
   "metadata": {},
   "outputs": [],
   "source": [
    "output = {}\n",
    "output['model'] = 'AlexNet'\n",
    "output['best_params'] = ''\n",
    "output['train_accuracy'] = accuracy_score(y_train, pred_train)\n",
    "output['test_accuracy'] = accuracy_score(y_test, pred_test)\n",
    "output['train_recall'] = recall_score(y_train, pred_train)\n",
    "output['test_recall'] = recall_score(y_test, pred_test)\n",
    "output['train_f1'] = f1_score(y_train, pred_train)\n",
    "output['test_f1'] = f1_score(y_test, pred_test)\n",
    "output['RR'] = RR"
   ]
  },
  {
   "cell_type": "code",
   "execution_count": 13,
   "metadata": {},
   "outputs": [],
   "source": [
    "df = df.append(output, ignore_index=True)"
   ]
  },
  {
   "cell_type": "code",
   "execution_count": 14,
   "metadata": {},
   "outputs": [],
   "source": [
    "del model_alexnet"
   ]
  },
  {
   "cell_type": "markdown",
   "metadata": {},
   "source": [
    "### Spanhol Model"
   ]
  },
  {
   "cell_type": "code",
   "execution_count": 15,
   "metadata": {},
   "outputs": [],
   "source": [
    "model_spanhol = load_model('./model_spanhol_best.h5')"
   ]
  },
  {
   "cell_type": "code",
   "execution_count": 16,
   "metadata": {},
   "outputs": [],
   "source": [
    "pred_train = model_spanhol.predict_classes(X_train)"
   ]
  },
  {
   "cell_type": "code",
   "execution_count": 17,
   "metadata": {},
   "outputs": [],
   "source": [
    "pred_test = model_spanhol.predict_classes(X_test)"
   ]
  },
  {
   "cell_type": "code",
   "execution_count": 18,
   "metadata": {},
   "outputs": [],
   "source": [
    "df_test['pred'] = pred_test\n",
    "df_test['correct'] = df_test.apply(lambda x: 1 if x['Label'] == x['pred'] else 0, axis=1)\n",
    "RR = df_test.groupby('Patient_Id')[['correct']].agg('mean').sum().values[0] / len(df_test.groupby('Patient_Id'))"
   ]
  },
  {
   "cell_type": "code",
   "execution_count": 19,
   "metadata": {},
   "outputs": [],
   "source": [
    "output = {}\n",
    "output['model'] = 'Spanhol'\n",
    "output['best_params'] = ''\n",
    "output['train_accuracy'] = accuracy_score(y_train, pred_train)\n",
    "output['test_accuracy'] = accuracy_score(y_test, pred_test)\n",
    "output['train_recall'] = recall_score(y_train, pred_train)\n",
    "output['test_recall'] = recall_score(y_test, pred_test)\n",
    "output['train_f1'] = f1_score(y_train, pred_train)\n",
    "output['test_f1'] = f1_score(y_test, pred_test)\n",
    "output['RR'] = RR"
   ]
  },
  {
   "cell_type": "code",
   "execution_count": 20,
   "metadata": {},
   "outputs": [],
   "source": [
    "df = df.append(output, ignore_index=True)"
   ]
  },
  {
   "cell_type": "code",
   "execution_count": 21,
   "metadata": {},
   "outputs": [],
   "source": [
    "df.to_csv('results_deep.csv', index=False)"
   ]
  },
  {
   "cell_type": "code",
   "execution_count": 22,
   "metadata": {},
   "outputs": [],
   "source": [
    "del model_spanhol"
   ]
  }
 ],
 "metadata": {
  "kernelspec": {
   "display_name": "Python 3",
   "language": "python",
   "name": "python3"
  },
  "language_info": {
   "codemirror_mode": {
    "name": "ipython",
    "version": 3
   },
   "file_extension": ".py",
   "mimetype": "text/x-python",
   "name": "python",
   "nbconvert_exporter": "python",
   "pygments_lexer": "ipython3",
   "version": "3.6.6"
  }
 },
 "nbformat": 4,
 "nbformat_minor": 2
}
