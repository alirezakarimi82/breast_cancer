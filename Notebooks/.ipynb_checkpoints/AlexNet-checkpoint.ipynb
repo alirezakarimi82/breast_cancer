{
 "cells": [
  {
   "cell_type": "markdown",
   "metadata": {},
   "source": [
    "## Classification using AlexNet"
   ]
  },
  {
   "cell_type": "markdown",
   "metadata": {},
   "source": [
    "In this notebook, a particular configuration of convolutional neural networks called [AlexNet](https://papers.nips.cc/paper/4824-imagenet-classification-with-deep-convolutional-neural-networks.pdf) is utilized to train a classifier based on raw images of the BreakHis dataset. First, I divided the images into train and test sets in a patient-wise manner and then I read the corresponding image files. To lower the size of computations, the images are resized to be 230 $\\times$ 350. Then, the image data are scaled by subtracting from the mean of the train set and by dividing by the overall maximum value which is 255. Then, using the `keras` library, a slightly modified AlexNet model is introduced which contains 5 convolutional layers and 4 dense layers. In order to address the issue of overfitting, some dropout layers have been added between the dense layers. In total, this model contains more than 32 million trainable parameters. I defined a check point to store the weights of the model whenever the network reaches a peak in terms of accuracy of predicting the labels of the test set. At the end, this best model is called from the disk and the corresponding values of the accuracy and the recognition scores are calculated."
   ]
  },
  {
   "cell_type": "code",
   "execution_count": 1,
   "metadata": {},
   "outputs": [
    {
     "name": "stderr",
     "output_type": "stream",
     "text": [
      "Using TensorFlow backend.\n"
     ]
    }
   ],
   "source": [
    "import cv2\n",
    "import pandas as pd\n",
    "import numpy as np\n",
    "import matplotlib.pyplot as plt\n",
    "\n",
    "from keras.models import Sequential\n",
    "from keras.layers import Dense, Dropout, Flatten\n",
    "from keras.layers import Conv2D, MaxPooling2D\n",
    "from keras.layers.normalization import BatchNormalization\n",
    "from keras.callbacks import EarlyStopping, ModelCheckpoint\n",
    "from keras.models import load_model"
   ]
  },
  {
   "cell_type": "code",
   "execution_count": 2,
   "metadata": {},
   "outputs": [],
   "source": [
    "np.random.seed(42)"
   ]
  },
  {
   "cell_type": "code",
   "execution_count": 3,
   "metadata": {},
   "outputs": [],
   "source": [
    "df = pd.read_csv('./specs.csv')"
   ]
  },
  {
   "cell_type": "code",
   "execution_count": 4,
   "metadata": {},
   "outputs": [],
   "source": [
    "patients = list(df['Patient_Id'].unique())"
   ]
  },
  {
   "cell_type": "code",
   "execution_count": 5,
   "metadata": {},
   "outputs": [],
   "source": [
    "train_frac = 0.75"
   ]
  },
  {
   "cell_type": "code",
   "execution_count": 6,
   "metadata": {},
   "outputs": [],
   "source": [
    "train_size = int(train_frac * len(patients))"
   ]
  },
  {
   "cell_type": "code",
   "execution_count": 7,
   "metadata": {},
   "outputs": [],
   "source": [
    "train_patients = list(np.random.choice(patients, size = train_size, replace = False))\n",
    "test_patients = list(set(patients) - set(train_patients)) "
   ]
  },
  {
   "cell_type": "code",
   "execution_count": 8,
   "metadata": {},
   "outputs": [],
   "source": [
    "df_train = df.set_index('Patient_Id').loc[train_patients].reset_index()\n",
    "df_test  = df.set_index('Patient_Id').loc[test_patients].reset_index()"
   ]
  },
  {
   "cell_type": "code",
   "execution_count": 37,
   "metadata": {},
   "outputs": [],
   "source": [
    "del X_train\n",
    "del X_test"
   ]
  },
  {
   "cell_type": "code",
   "execution_count": 38,
   "metadata": {},
   "outputs": [],
   "source": [
    "dst_folder = './Images/'\n",
    "img_list = []\n",
    "\n",
    "for index, row in df_train.iterrows():\n",
    "    file_name = dst_folder + row['Image_Id'] + '.png'\n",
    "    img_list.append(cv2.resize(cv2.imread(file_name), (0,0), fx=0.5, fy=0.5))\n",
    "\n",
    "mean_img_train = np.mean(img_list, axis=(0, 1, 2))\n",
    "\n",
    "X_train = img_list - mean_img_train\n",
    "    \n",
    "del img_list\n",
    "\n",
    "X_train /= 255"
   ]
  },
  {
   "cell_type": "code",
   "execution_count": 39,
   "metadata": {},
   "outputs": [],
   "source": [
    "dst_folder = './Images/'\n",
    "img_list = []\n",
    "\n",
    "for index, row in df_test.iterrows():\n",
    "    file_name = dst_folder + row['Image_Id'] + '.png'\n",
    "    img_list.append(cv2.resize(cv2.imread(file_name), (0,0), fx=0.5, fy=0.5))\n",
    "\n",
    "X_test = img_list - mean_img_train\n",
    "\n",
    "del img_list\n",
    "\n",
    "X_test /= 255"
   ]
  },
  {
   "cell_type": "code",
   "execution_count": 40,
   "metadata": {},
   "outputs": [],
   "source": [
    "y_train = np.array(df_train['Label'])\n",
    "y_test  = np.array(df_test['Label'])"
   ]
  },
  {
   "cell_type": "markdown",
   "metadata": {},
   "source": [
    "## CNN Model"
   ]
  },
  {
   "cell_type": "code",
   "execution_count": 41,
   "metadata": {},
   "outputs": [],
   "source": [
    "model = Sequential()\n",
    "\n",
    "# 1st Convolutional Layer\n",
    "model.add(Conv2D(filters=96,\n",
    "                 input_shape=X_train.shape[1:],\n",
    "                 kernel_size=11,\n",
    "                 strides=4,\n",
    "                 activation='relu'))\n",
    "\n",
    "# Pooling\n",
    "model.add(MaxPooling2D(pool_size=(2,2), strides=(2,2)))\n",
    "\n",
    "# Batch Normalisation before passing it to the next layer\n",
    "model.add(BatchNormalization())\n",
    "\n",
    "# 2nd Convolutional Layer\n",
    "model.add(Conv2D(filters=256,\n",
    "                 kernel_size=11,\n",
    "                 strides=1,\n",
    "                 activation='relu'))\n",
    "\n",
    "# Pooling\n",
    "model.add(MaxPooling2D(pool_size=(2,2), strides=(2,2)))\n",
    "\n",
    "# Batch Normalisation\n",
    "model.add(BatchNormalization())\n",
    "\n",
    "# 3rd Convolutional Layer\n",
    "model.add(Conv2D(filters=384,\n",
    "                 kernel_size=3,\n",
    "                 strides=1,\n",
    "                 activation='relu'))\n",
    "\n",
    "# Batch Normalisation\n",
    "model.add(BatchNormalization())\n",
    "\n",
    "# 4th Convolutional Layer\n",
    "model.add(Conv2D(filters=384,\n",
    "                 kernel_size=3,\n",
    "                 strides=1,\n",
    "                 activation='relu'))\n",
    "\n",
    "# Batch Normalisation\n",
    "model.add(BatchNormalization())\n",
    "\n",
    "# 5th Convolutional Layer\n",
    "model.add(Conv2D(filters=256,\n",
    "                 kernel_size=3,\n",
    "                 strides=1,\n",
    "                 activation='relu'))\n",
    "\n",
    "# Pooling\n",
    "model.add(MaxPooling2D(pool_size=(2,2), strides=(2,2)))\n",
    "\n",
    "# Batch Normalisation\n",
    "model.add(BatchNormalization())\n",
    "\n",
    "# Passing it to a dense layer\n",
    "model.add(Flatten())\n",
    "\n",
    "# 1st Dense Layer\n",
    "model.add(Dense(4096, activation='relu'))\n",
    "\n",
    "# Add Dropout to prevent overfitting\n",
    "model.add(Dropout(0.4))\n",
    "\n",
    "# Batch Normalisation\n",
    "model.add(BatchNormalization())\n",
    "\n",
    "# 2nd Dense Layer\n",
    "model.add(Dense(4096, activation='relu'))\n",
    "\n",
    "# Add Dropout\n",
    "model.add(Dropout(0.4))\n",
    "\n",
    "# Batch Normalisation\n",
    "model.add(BatchNormalization())\n",
    "\n",
    "# 3rd Dense Layer\n",
    "model.add(Dense(1000, activation='relu'))\n",
    "\n",
    "# Add Dropout\n",
    "model.add(Dropout(0.4))\n",
    "\n",
    "# Batch Normalisation\n",
    "model.add(BatchNormalization())\n",
    "\n",
    "# Output Layer\n",
    "model.add(Dense(1, activation='sigmoid'))"
   ]
  },
  {
   "cell_type": "code",
   "execution_count": 42,
   "metadata": {},
   "outputs": [],
   "source": [
    "# model.summary()"
   ]
  },
  {
   "cell_type": "code",
   "execution_count": 43,
   "metadata": {},
   "outputs": [],
   "source": [
    "model.compile(optimizer='adam', loss='binary_crossentropy', metrics=['accuracy'])"
   ]
  },
  {
   "cell_type": "code",
   "execution_count": 44,
   "metadata": {},
   "outputs": [],
   "source": [
    "file_name = 'model_alexnet.h5'\n",
    "earlystopper = EarlyStopping(patience=20, verbose=1)\n",
    "checkpointer = ModelCheckpoint(file_name, monitor='val_acc', verbose=1, save_best_only=True, mode='max')"
   ]
  },
  {
   "cell_type": "code",
   "execution_count": 45,
   "metadata": {},
   "outputs": [
    {
     "name": "stdout",
     "output_type": "stream",
     "text": [
      "Train on 1510 samples, validate on 464 samples\n",
      "Epoch 1/50\n",
      "1510/1510 [==============================] - 12s 8ms/step - loss: 0.8566 - acc: 0.7212 - val_loss: 5.4744 - val_acc: 0.5043\n",
      "\n",
      "Epoch 00001: val_acc improved from -inf to 0.50431, saving model to model_alexnet.h5\n",
      "Epoch 2/50\n",
      "1510/1510 [==============================] - 8s 5ms/step - loss: 0.4649 - acc: 0.8073 - val_loss: 1.6836 - val_acc: 0.5603\n",
      "\n",
      "Epoch 00002: val_acc improved from 0.50431 to 0.56034, saving model to model_alexnet.h5\n",
      "Epoch 3/50\n",
      "1510/1510 [==============================] - 8s 5ms/step - loss: 0.4602 - acc: 0.8060 - val_loss: 1.4933 - val_acc: 0.7004\n",
      "\n",
      "Epoch 00003: val_acc improved from 0.56034 to 0.70043, saving model to model_alexnet.h5\n",
      "Epoch 4/50\n",
      "1510/1510 [==============================] - 8s 5ms/step - loss: 0.4812 - acc: 0.8126 - val_loss: 0.8761 - val_acc: 0.7629\n",
      "\n",
      "Epoch 00004: val_acc improved from 0.70043 to 0.76293, saving model to model_alexnet.h5\n",
      "Epoch 5/50\n",
      "1510/1510 [==============================] - 8s 5ms/step - loss: 0.4631 - acc: 0.8185 - val_loss: 0.9264 - val_acc: 0.6940\n",
      "\n",
      "Epoch 00005: val_acc did not improve from 0.76293\n",
      "Epoch 6/50\n",
      "1510/1510 [==============================] - 8s 5ms/step - loss: 0.4206 - acc: 0.8278 - val_loss: 0.9209 - val_acc: 0.7414\n",
      "\n",
      "Epoch 00006: val_acc did not improve from 0.76293\n",
      "Epoch 7/50\n",
      "1510/1510 [==============================] - 8s 5ms/step - loss: 0.4126 - acc: 0.8364 - val_loss: 0.5891 - val_acc: 0.7522\n",
      "\n",
      "Epoch 00007: val_acc did not improve from 0.76293\n",
      "Epoch 8/50\n",
      "1510/1510 [==============================] - 8s 5ms/step - loss: 0.3884 - acc: 0.8377 - val_loss: 0.6076 - val_acc: 0.7565\n",
      "\n",
      "Epoch 00008: val_acc did not improve from 0.76293\n",
      "Epoch 9/50\n",
      "1510/1510 [==============================] - 8s 5ms/step - loss: 0.3505 - acc: 0.8656 - val_loss: 0.7957 - val_acc: 0.6767\n",
      "\n",
      "Epoch 00009: val_acc did not improve from 0.76293\n",
      "Epoch 10/50\n",
      "1510/1510 [==============================] - 8s 5ms/step - loss: 0.3675 - acc: 0.8510 - val_loss: 0.6889 - val_acc: 0.7608\n",
      "\n",
      "Epoch 00010: val_acc did not improve from 0.76293\n",
      "Epoch 11/50\n",
      "1510/1510 [==============================] - 8s 5ms/step - loss: 0.3568 - acc: 0.8470 - val_loss: 0.5197 - val_acc: 0.7586\n",
      "\n",
      "Epoch 00011: val_acc did not improve from 0.76293\n",
      "Epoch 12/50\n",
      "1510/1510 [==============================] - 8s 5ms/step - loss: 0.3488 - acc: 0.8457 - val_loss: 1.5800 - val_acc: 0.7004\n",
      "\n",
      "Epoch 00012: val_acc did not improve from 0.76293\n",
      "Epoch 13/50\n",
      "1510/1510 [==============================] - 8s 5ms/step - loss: 0.3289 - acc: 0.8623 - val_loss: 0.6267 - val_acc: 0.7457\n",
      "\n",
      "Epoch 00013: val_acc did not improve from 0.76293\n",
      "Epoch 14/50\n",
      "1510/1510 [==============================] - 8s 5ms/step - loss: 0.3167 - acc: 0.8742 - val_loss: 0.5894 - val_acc: 0.7780\n",
      "\n",
      "Epoch 00014: val_acc improved from 0.76293 to 0.77802, saving model to model_alexnet.h5\n",
      "Epoch 15/50\n",
      "1510/1510 [==============================] - 8s 5ms/step - loss: 0.2783 - acc: 0.8934 - val_loss: 0.5793 - val_acc: 0.8103\n",
      "\n",
      "Epoch 00015: val_acc improved from 0.77802 to 0.81034, saving model to model_alexnet.h5\n",
      "Epoch 16/50\n",
      "1510/1510 [==============================] - 8s 5ms/step - loss: 0.2846 - acc: 0.8854 - val_loss: 0.8537 - val_acc: 0.7241\n",
      "\n",
      "Epoch 00016: val_acc did not improve from 0.81034\n",
      "Epoch 17/50\n",
      "1510/1510 [==============================] - 8s 5ms/step - loss: 0.2732 - acc: 0.8934 - val_loss: 0.6490 - val_acc: 0.7435\n",
      "\n",
      "Epoch 00017: val_acc did not improve from 0.81034\n",
      "Epoch 18/50\n",
      "1510/1510 [==============================] - 8s 5ms/step - loss: 0.3298 - acc: 0.8656 - val_loss: 0.8168 - val_acc: 0.7759\n",
      "\n",
      "Epoch 00018: val_acc did not improve from 0.81034\n",
      "Epoch 19/50\n",
      "1510/1510 [==============================] - 8s 5ms/step - loss: 0.3042 - acc: 0.8642 - val_loss: 1.0474 - val_acc: 0.7349\n",
      "\n",
      "Epoch 00019: val_acc did not improve from 0.81034\n",
      "Epoch 20/50\n",
      "1510/1510 [==============================] - 8s 5ms/step - loss: 0.2641 - acc: 0.8934 - val_loss: 0.5626 - val_acc: 0.7522\n",
      "\n",
      "Epoch 00020: val_acc did not improve from 0.81034\n",
      "Epoch 21/50\n",
      "1510/1510 [==============================] - 8s 5ms/step - loss: 0.2286 - acc: 0.9086 - val_loss: 0.8092 - val_acc: 0.7543\n",
      "\n",
      "Epoch 00021: val_acc did not improve from 0.81034\n",
      "Epoch 22/50\n",
      "1510/1510 [==============================] - 8s 5ms/step - loss: 0.1973 - acc: 0.9205 - val_loss: 0.8618 - val_acc: 0.7478\n",
      "\n",
      "Epoch 00022: val_acc did not improve from 0.81034\n",
      "Epoch 23/50\n",
      "1510/1510 [==============================] - 8s 5ms/step - loss: 0.2157 - acc: 0.9099 - val_loss: 0.5907 - val_acc: 0.7759\n",
      "\n",
      "Epoch 00023: val_acc did not improve from 0.81034\n",
      "Epoch 24/50\n",
      "1510/1510 [==============================] - 8s 5ms/step - loss: 0.2180 - acc: 0.9152 - val_loss: 0.7128 - val_acc: 0.7866\n",
      "\n",
      "Epoch 00024: val_acc did not improve from 0.81034\n",
      "Epoch 25/50\n",
      "1510/1510 [==============================] - 8s 5ms/step - loss: 0.2952 - acc: 0.8874 - val_loss: 0.9203 - val_acc: 0.7866\n",
      "\n",
      "Epoch 00025: val_acc did not improve from 0.81034\n",
      "Epoch 26/50\n",
      "1510/1510 [==============================] - 8s 5ms/step - loss: 0.2210 - acc: 0.9192 - val_loss: 0.7987 - val_acc: 0.7780\n",
      "\n",
      "Epoch 00026: val_acc did not improve from 0.81034\n",
      "Epoch 27/50\n",
      "1510/1510 [==============================] - 8s 5ms/step - loss: 0.2173 - acc: 0.9179 - val_loss: 0.7558 - val_acc: 0.7478\n",
      "\n",
      "Epoch 00027: val_acc did not improve from 0.81034\n",
      "Epoch 28/50\n",
      "1510/1510 [==============================] - 8s 5ms/step - loss: 0.1600 - acc: 0.9404 - val_loss: 0.6606 - val_acc: 0.8297\n",
      "\n",
      "Epoch 00028: val_acc improved from 0.81034 to 0.82974, saving model to model_alexnet.h5\n",
      "Epoch 29/50\n",
      "1510/1510 [==============================] - 8s 5ms/step - loss: 0.1968 - acc: 0.9232 - val_loss: 0.8420 - val_acc: 0.8060\n",
      "\n",
      "Epoch 00029: val_acc did not improve from 0.82974\n",
      "Epoch 30/50\n",
      "1510/1510 [==============================] - 8s 5ms/step - loss: 0.3292 - acc: 0.8762 - val_loss: 1.0819 - val_acc: 0.7565\n",
      "\n",
      "Epoch 00030: val_acc did not improve from 0.82974\n",
      "Epoch 31/50\n",
      "1510/1510 [==============================] - 8s 5ms/step - loss: 0.2203 - acc: 0.9040 - val_loss: 0.7868 - val_acc: 0.7349\n",
      "\n",
      "Epoch 00031: val_acc did not improve from 0.82974\n",
      "Epoch 00031: early stopping\n"
     ]
    }
   ],
   "source": [
    "results = model.fit(X_train, y_train,\n",
    "                    epochs=50,\n",
    "                    batch_size=32,\n",
    "                    validation_data=(X_test, y_test),\n",
    "                    callbacks=[earlystopper, checkpointer])"
   ]
  },
  {
   "cell_type": "code",
   "execution_count": 46,
   "metadata": {},
   "outputs": [
    {
     "data": {
      "image/png": "[encoded data removed]",
      "text/plain": [
       "<Figure size 432x288 with 1 Axes>"
      ]
     },
     "metadata": {},
     "output_type": "display_data"
    }
   ],
   "source": [
    "plt.plot(results.history['loss'], label = 'Train Loss')\n",
    "plt.plot(results.history['val_loss'], label = 'Test Loss')\n",
    "plt.legend();"
   ]
  },
  {
   "cell_type": "code",
   "execution_count": 47,
   "metadata": {},
   "outputs": [
    {
     "data": {
      "image/png": "[encoded data removed]",
      "text/plain": [
       "<Figure size 432x288 with 1 Axes>"
      ]
     },
     "metadata": {},
     "output_type": "display_data"
    }
   ],
   "source": [
    "plt.plot(results.history['acc'], label = 'Train Accuracy')\n",
    "plt.plot(results.history['val_acc'], label = 'Test Accuracy')\n",
    "plt.legend();"
   ]
  },
  {
   "cell_type": "code",
   "execution_count": 48,
   "metadata": {},
   "outputs": [],
   "source": [
    "best_model = load_model(file_name)"
   ]
  },
  {
   "cell_type": "code",
   "execution_count": 49,
   "metadata": {},
   "outputs": [
    {
     "name": "stdout",
     "output_type": "stream",
     "text": [
      "acc: 82.97%\n"
     ]
    }
   ],
   "source": [
    "scores = best_model.evaluate(X_test, y_test, verbose=0)\n",
    "print(\"%s: %.2f%%\" % (model.metrics_names[1], scores[1]*100))"
   ]
  },
  {
   "cell_type": "code",
   "execution_count": 50,
   "metadata": {},
   "outputs": [
    {
     "data": {
      "text/html": [
       "<div>\n",
       "<style scoped>\n",
       "    .dataframe tbody tr th:only-of-type {\n",
       "        vertical-align: middle;\n",
       "    }\n",
       "\n",
       "    .dataframe tbody tr th {\n",
       "        vertical-align: top;\n",
       "    }\n",
       "\n",
       "    .dataframe thead th {\n",
       "        text-align: right;\n",
       "    }\n",
       "</style>\n",
       "<table border=\"1\" class=\"dataframe\">\n",
       "  <thead>\n",
       "    <tr style=\"text-align: right;\">\n",
       "      <th></th>\n",
       "      <th>Patient_Id</th>\n",
       "      <th>Image_Id</th>\n",
       "      <th>Tumor_Type</th>\n",
       "      <th>Tumor_Subtype</th>\n",
       "      <th>Magnification</th>\n",
       "      <th>Image_Number</th>\n",
       "      <th>Label</th>\n",
       "      <th>pred</th>\n",
       "      <th>correct</th>\n",
       "    </tr>\n",
       "  </thead>\n",
       "  <tbody>\n",
       "    <tr>\n",
       "      <th>0</th>\n",
       "      <td>6241</td>\n",
       "      <td>SOB_M_DC-14-6241-40-053</td>\n",
       "      <td>M</td>\n",
       "      <td>DC</td>\n",
       "      <td>40</td>\n",
       "      <td>53</td>\n",
       "      <td>1</td>\n",
       "      <td>0</td>\n",
       "      <td>1</td>\n",
       "    </tr>\n",
       "    <tr>\n",
       "      <th>1</th>\n",
       "      <td>6241</td>\n",
       "      <td>SOB_M_DC-14-6241-40-051</td>\n",
       "      <td>M</td>\n",
       "      <td>DC</td>\n",
       "      <td>40</td>\n",
       "      <td>51</td>\n",
       "      <td>1</td>\n",
       "      <td>0</td>\n",
       "      <td>0</td>\n",
       "    </tr>\n",
       "    <tr>\n",
       "      <th>2</th>\n",
       "      <td>6241</td>\n",
       "      <td>SOB_M_DC-14-6241-40-045</td>\n",
       "      <td>M</td>\n",
       "      <td>DC</td>\n",
       "      <td>40</td>\n",
       "      <td>45</td>\n",
       "      <td>1</td>\n",
       "      <td>1</td>\n",
       "      <td>1</td>\n",
       "    </tr>\n",
       "    <tr>\n",
       "      <th>3</th>\n",
       "      <td>6241</td>\n",
       "      <td>SOB_M_DC-14-6241-40-044</td>\n",
       "      <td>M</td>\n",
       "      <td>DC</td>\n",
       "      <td>40</td>\n",
       "      <td>44</td>\n",
       "      <td>1</td>\n",
       "      <td>0</td>\n",
       "      <td>1</td>\n",
       "    </tr>\n",
       "    <tr>\n",
       "      <th>4</th>\n",
       "      <td>6241</td>\n",
       "      <td>SOB_M_DC-14-6241-40-054</td>\n",
       "      <td>M</td>\n",
       "      <td>DC</td>\n",
       "      <td>40</td>\n",
       "      <td>54</td>\n",
       "      <td>1</td>\n",
       "      <td>1</td>\n",
       "      <td>1</td>\n",
       "    </tr>\n",
       "  </tbody>\n",
       "</table>\n",
       "</div>"
      ],
      "text/plain": [
       "  Patient_Id                 Image_Id Tumor_Type Tumor_Subtype  Magnification  \\\n",
       "0       6241  SOB_M_DC-14-6241-40-053          M            DC             40   \n",
       "1       6241  SOB_M_DC-14-6241-40-051          M            DC             40   \n",
       "2       6241  SOB_M_DC-14-6241-40-045          M            DC             40   \n",
       "3       6241  SOB_M_DC-14-6241-40-044          M            DC             40   \n",
       "4       6241  SOB_M_DC-14-6241-40-054          M            DC             40   \n",
       "\n",
       "   Image_Number  Label  pred  correct  \n",
       "0            53      1     0        1  \n",
       "1            51      1     0        0  \n",
       "2            45      1     1        1  \n",
       "3            44      1     0        1  \n",
       "4            54      1     1        1  "
      ]
     },
     "execution_count": 50,
     "metadata": {},
     "output_type": "execute_result"
    }
   ],
   "source": [
    "df_test['pred'] = best_model.predict_classes(X_test)\n",
    "df_test.head()"
   ]
  },
  {
   "cell_type": "code",
   "execution_count": 51,
   "metadata": {
    "scrolled": true
   },
   "outputs": [],
   "source": [
    "df_test['correct'] = df_test.apply(lambda x: 1 if x['Label'] == x['pred'] else 0, axis=1)"
   ]
  },
  {
   "cell_type": "code",
   "execution_count": 52,
   "metadata": {},
   "outputs": [
    {
     "name": "stdout",
     "output_type": "stream",
     "text": [
      "RC = 80.97%\n"
     ]
    }
   ],
   "source": [
    "RC = df_test.groupby('Patient_Id')[['correct']].agg('mean').sum().values[0] / len(df_test.groupby('Patient_Id'))\n",
    "print('RC = {:0.2%}'.format(RC))"
   ]
  },
  {
   "cell_type": "code",
   "execution_count": null,
   "metadata": {},
   "outputs": [],
   "source": []
  }
 ],
 "metadata": {
  "kernelspec": {
   "display_name": "Python 3",
   "language": "python",
   "name": "python3"
  },
  "language_info": {
   "codemirror_mode": {
    "name": "ipython",
    "version": 3
   },
   "file_extension": ".py",
   "mimetype": "text/x-python",
   "name": "python",
   "nbconvert_exporter": "python",
   "pygments_lexer": "ipython3",
   "version": "3.6.6"
  }
 },
 "nbformat": 4,
 "nbformat_minor": 2
}
