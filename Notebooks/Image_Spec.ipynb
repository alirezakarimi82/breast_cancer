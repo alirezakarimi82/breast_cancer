{
 "cells": [
  {
   "cell_type": "markdown",
   "metadata": {},
   "source": [
    "## Gathering the Specifications of the Images"
   ]
  },
  {
   "cell_type": "markdown",
   "metadata": {},
   "source": [
    "As indicated in the [BreakHis info page](https://web.inf.ufpr.br/vri/databases/breast-cancer-histopathological-database-breakhis/), the name of each image file contains some information as follows,\n",
    "- the corresponding patient identification number, \n",
    "- the type of tumor $\\rightarrow$ benign (B) or malignant (M),\n",
    "- the subtype of tumor $\\rightarrow$ the dataset contains 4 histological distinct types of benign breast tumors: adenosis (A), fibroadenoma (F), phyllodes tumor (PT), and tubular adenona (TA);  and 4 malignant tumors (breast cancer): carcinoma (DC), lobular carcinoma (LC), mucinous carcinoma (MC) and papillary carcinoma (PC),\n",
    "- the magnification factor of that image, and,\n",
    "- the sequence number of the image for that particular patient.\n",
    "\n",
    "In this notebook, using the folder of images prepared before, I extract of specification of each image and then store that information in a data frame. "
   ]
  },
  {
   "cell_type": "code",
   "execution_count": 1,
   "metadata": {},
   "outputs": [],
   "source": [
    "import os\n",
    "import re\n",
    "import cv2\n",
    "import pandas as pd"
   ]
  },
  {
   "cell_type": "code",
   "execution_count": 2,
   "metadata": {},
   "outputs": [],
   "source": [
    "dst_dir = './Images/'"
   ]
  },
  {
   "cell_type": "code",
   "execution_count": 3,
   "metadata": {},
   "outputs": [],
   "source": [
    "file_names = [f for f in os.listdir(dst_dir) if f.endswith('.png')]"
   ]
  },
  {
   "cell_type": "code",
   "execution_count": 4,
   "metadata": {},
   "outputs": [],
   "source": [
    "df = pd.DataFrame(columns=['Image_Id', 'Patient_Id', 'Tumor_Type', 'Tumor_Subtype', 'Magnification', 'Image_Number'])"
   ]
  },
  {
   "cell_type": "code",
   "execution_count": 5,
   "metadata": {},
   "outputs": [],
   "source": [
    "pids = []\n",
    "iids = []\n",
    "types = []\n",
    "subtypes = []\n",
    "mags = []\n",
    "num = []\n",
    "\n",
    "for file in file_names:\n",
    "    data = re.findall(r'(\\w+)_(\\w)_(\\w+)-(\\d+)-(\\w+)-(\\d+)-(\\d+)', file)\n",
    "    types.append(data[0][1])\n",
    "    subtypes.append(data[0][2])\n",
    "    pids.append(data[0][4])\n",
    "    mags.append(int(data[0][5]))\n",
    "    num.append(int(data[0][6]))\n",
    "    iids.append(file.split('.')[0])\n",
    "\n",
    "df['Image_Id'] = iids\n",
    "df['Patient_Id'] = pids\n",
    "df['Tumor_Type'] = types\n",
    "df['Tumor_Subtype'] = subtypes\n",
    "df['Magnification'] = mags\n",
    "df['Image_Number'] = num"
   ]
  },
  {
   "cell_type": "code",
   "execution_count": 6,
   "metadata": {},
   "outputs": [
    {
     "data": {
      "text/html": [
       "<div>\n",
       "<style scoped>\n",
       "    .dataframe tbody tr th:only-of-type {\n",
       "        vertical-align: middle;\n",
       "    }\n",
       "\n",
       "    .dataframe tbody tr th {\n",
       "        vertical-align: top;\n",
       "    }\n",
       "\n",
       "    .dataframe thead th {\n",
       "        text-align: right;\n",
       "    }\n",
       "</style>\n",
       "<table border=\"1\" class=\"dataframe\">\n",
       "  <thead>\n",
       "    <tr style=\"text-align: right;\">\n",
       "      <th></th>\n",
       "      <th>Image_Id</th>\n",
       "      <th>Patient_Id</th>\n",
       "      <th>Tumor_Type</th>\n",
       "      <th>Tumor_Subtype</th>\n",
       "      <th>Magnification</th>\n",
       "      <th>Image_Number</th>\n",
       "    </tr>\n",
       "  </thead>\n",
       "  <tbody>\n",
       "    <tr>\n",
       "      <th>0</th>\n",
       "      <td>SOB_M_DC-14-13412-40-020</td>\n",
       "      <td>13412</td>\n",
       "      <td>M</td>\n",
       "      <td>DC</td>\n",
       "      <td>40</td>\n",
       "      <td>20</td>\n",
       "    </tr>\n",
       "    <tr>\n",
       "      <th>1</th>\n",
       "      <td>SOB_M_DC-14-17915-40-009</td>\n",
       "      <td>17915</td>\n",
       "      <td>M</td>\n",
       "      <td>DC</td>\n",
       "      <td>40</td>\n",
       "      <td>9</td>\n",
       "    </tr>\n",
       "    <tr>\n",
       "      <th>2</th>\n",
       "      <td>SOB_M_DC-14-20636-40-014</td>\n",
       "      <td>20636</td>\n",
       "      <td>M</td>\n",
       "      <td>DC</td>\n",
       "      <td>40</td>\n",
       "      <td>14</td>\n",
       "    </tr>\n",
       "    <tr>\n",
       "      <th>3</th>\n",
       "      <td>SOB_B_TA-14-15275-40-010</td>\n",
       "      <td>15275</td>\n",
       "      <td>B</td>\n",
       "      <td>TA</td>\n",
       "      <td>40</td>\n",
       "      <td>10</td>\n",
       "    </tr>\n",
       "    <tr>\n",
       "      <th>4</th>\n",
       "      <td>SOB_M_DC-14-17915-40-021</td>\n",
       "      <td>17915</td>\n",
       "      <td>M</td>\n",
       "      <td>DC</td>\n",
       "      <td>40</td>\n",
       "      <td>21</td>\n",
       "    </tr>\n",
       "  </tbody>\n",
       "</table>\n",
       "</div>"
      ],
      "text/plain": [
       "                   Image_Id Patient_Id Tumor_Type Tumor_Subtype  \\\n",
       "0  SOB_M_DC-14-13412-40-020      13412          M            DC   \n",
       "1  SOB_M_DC-14-17915-40-009      17915          M            DC   \n",
       "2  SOB_M_DC-14-20636-40-014      20636          M            DC   \n",
       "3  SOB_B_TA-14-15275-40-010      15275          B            TA   \n",
       "4  SOB_M_DC-14-17915-40-021      17915          M            DC   \n",
       "\n",
       "   Magnification  Image_Number  \n",
       "0             40            20  \n",
       "1             40             9  \n",
       "2             40            14  \n",
       "3             40            10  \n",
       "4             40            21  "
      ]
     },
     "execution_count": 6,
     "metadata": {},
     "output_type": "execute_result"
    }
   ],
   "source": [
    "df.head()"
   ]
  },
  {
   "cell_type": "code",
   "execution_count": 7,
   "metadata": {},
   "outputs": [
    {
     "data": {
      "text/plain": [
       "81"
      ]
     },
     "execution_count": 7,
     "metadata": {},
     "output_type": "execute_result"
    }
   ],
   "source": [
    "df['Patient_Id'].nunique()"
   ]
  },
  {
   "cell_type": "code",
   "execution_count": 8,
   "metadata": {},
   "outputs": [
    {
     "data": {
      "text/plain": [
       "array(['13412', '17915', '20636', '15275', '11520', '9461', '12312',\n",
       "       '12773', '16184', '3411F', '14134', '25197', '9133', '13200',\n",
       "       '17614', '15570C', '20629', '17901', '19440', '11951', '14134E',\n",
       "       '15696', '14946', '15687B', '22549G', '22549CD', '15570',\n",
       "       '22549AB', '21998AB', '6241', '18842', '12204', '5694', '4372',\n",
       "       '16456', '18842D', '10147', '29315EF', '23222AB', '11031', '5695',\n",
       "       '21998EF', '19979C', '16196', '16336', '16875', '5287', '2985',\n",
       "       '15792', '23060AB', '12465', '21998CD', '23060CD', '14926',\n",
       "       '13993', '13413', '29960CD', '16184CD', '19854C', '21978AB',\n",
       "       '14015', '15704', '9146', '190EF', '16188', '16716', '15572',\n",
       "       '16448', '2523', '22704', '2773', '18650', '2980', '10926',\n",
       "       '19979', '3909', '29960AB', '8168', '16601', '13418DE', '4364'],\n",
       "      dtype=object)"
      ]
     },
     "execution_count": 8,
     "metadata": {},
     "output_type": "execute_result"
    }
   ],
   "source": [
    "df['Patient_Id'].unique()"
   ]
  },
  {
   "cell_type": "markdown",
   "metadata": {},
   "source": [
    "### Dropping Images with non-matching size"
   ]
  },
  {
   "cell_type": "markdown",
   "metadata": {},
   "source": [
    "According to the information given by the curators of the [BreakHis](https://web.inf.ufpr.br/vri/databases/breast-cancer-histopathological-database-breakhis/), all images are supposed to be 460 $\\times$ 700. However, I realized that for one of the patients, the images width is different than 460. Since these few non-matching images will create problems in later analysis of the dataset, here, I drop those images from the data frame."
   ]
  },
  {
   "cell_type": "code",
   "execution_count": null,
   "metadata": {},
   "outputs": [],
   "source": [
    "for index, row in df.iterrows():\n",
    "    file_name = dst_folder + row['Image_Id'] + '.png'\n",
    "    img = cv2.imread(file_name)\n",
    "    if (img.shape[0] != 460):\n",
    "        df.drop(index=index, inplace=True)"
   ]
  },
  {
   "cell_type": "code",
   "execution_count": 9,
   "metadata": {},
   "outputs": [],
   "source": [
    "df.to_csv('./specs.csv', index=False)"
   ]
  },
  {
   "cell_type": "code",
   "execution_count": null,
   "metadata": {},
   "outputs": [],
   "source": []
  }
 ],
 "metadata": {
  "kernelspec": {
   "display_name": "Python 3",
   "language": "python",
   "name": "python3"
  },
  "language_info": {
   "codemirror_mode": {
    "name": "ipython",
    "version": 3
   },
   "file_extension": ".py",
   "mimetype": "text/x-python",
   "name": "python",
   "nbconvert_exporter": "python",
   "pygments_lexer": "ipython3",
   "version": "3.6.6"
  }
 },
 "nbformat": 4,
 "nbformat_minor": 2
}
