{
 "cells": [
  {
   "cell_type": "markdown",
   "metadata": {},
   "source": [
    "## Gathering Image Files"
   ]
  },
  {
   "cell_type": "markdown",
   "metadata": {},
   "source": [
    "In the original configuration of [BreakHis](https://web.inf.ufpr.br/vri/databases/breast-cancer-histopathological-database-breakhis/) dataset, the image files are spread across different folders categorized based on tumor subtype for each individual patient. In this notebook, the images with magnification 40X for all patients are gathered from all different folders and put together in a single folder called `Images`."
   ]
  },
  {
   "cell_type": "code",
   "execution_count": 1,
   "metadata": {},
   "outputs": [],
   "source": [
    "import os\n",
    "import shutil"
   ]
  },
  {
   "cell_type": "code",
   "execution_count": 2,
   "metadata": {},
   "outputs": [],
   "source": [
    "mag = 40\n",
    "mag_folder = '/{}X/'.format(str(mag))"
   ]
  },
  {
   "cell_type": "code",
   "execution_count": 3,
   "metadata": {},
   "outputs": [],
   "source": [
    "root_dir = './BreaKHis_v1/histology_slides/breast'\n",
    "\n",
    "src_folders = {'DC': '/malignant/SOB/ductal_carcinoma/',\n",
    "               'LC': '/malignant/SOB/lobular_carcinoma/',\n",
    "               'MC': '/malignant/SOB/mucinous_carcinoma/',\n",
    "               'PC': '/malignant/SOB/papillary_carcinoma/',\n",
    "               'A': '/benign/SOB/adenosis/',\n",
    "               'F': '/benign/SOB/fibroadenoma/',\n",
    "               'PT': '/benign/SOB/phyllodes_tumor/',\n",
    "               'TA': '/benign/SOB/tubular_adenoma/'}"
   ]
  },
  {
   "cell_type": "code",
   "execution_count": 4,
   "metadata": {},
   "outputs": [],
   "source": [
    "dst_dir = './Images/'\n",
    "if not os.path.exists(dst_dir):\n",
    "    os.mkdir(dst_dir)"
   ]
  },
  {
   "cell_type": "code",
   "execution_count": 5,
   "metadata": {},
   "outputs": [],
   "source": [
    "counter = 0\n",
    "\n",
    "for key in src_folders.keys():\n",
    "    path = root_dir + src_folders[key]\n",
    "    image_folders = [f.path + mag_folder for f in os.scandir(path) if f.is_dir()]\n",
    "    for folder in image_folders:\n",
    "        image_files = [f.path for f in os.scandir(folder) if f.name.endswith('.png')]\n",
    "        for file in image_files:\n",
    "            counter = counter + 1\n",
    "            shutil.copy(file, dst_dir)"
   ]
  },
  {
   "cell_type": "code",
   "execution_count": 6,
   "metadata": {},
   "outputs": [
    {
     "name": "stdout",
     "output_type": "stream",
     "text": [
      "Number of copied files is: 1995\n"
     ]
    }
   ],
   "source": [
    "print('Number of copied files is: {}'.format(counter))"
   ]
  },
  {
   "cell_type": "markdown",
   "metadata": {},
   "source": [
    "**Note:** The total number of copied files agrees with the number of 40X images given in the research [paper](http://www.inf.ufpr.br/lesoliveira/download/TBME-00608-2015-R2-preprint.pdf) of the curators of the dataset."
   ]
  }
 ],
 "metadata": {
  "kernelspec": {
   "display_name": "Python 3",
   "language": "python",
   "name": "python3"
  },
  "language_info": {
   "codemirror_mode": {
    "name": "ipython",
    "version": 3
   },
   "file_extension": ".py",
   "mimetype": "text/x-python",
   "name": "python",
   "nbconvert_exporter": "python",
   "pygments_lexer": "ipython3",
   "version": "3.6.6"
  }
 },
 "nbformat": 4,
 "nbformat_minor": 2
}
